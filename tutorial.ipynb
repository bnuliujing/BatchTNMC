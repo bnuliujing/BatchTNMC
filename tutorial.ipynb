{
 "cells": [
  {
   "cell_type": "markdown",
   "id": "36db169d",
   "metadata": {},
   "source": [
    "# BatchTNMC for 2D Ising model\n",
    "\n",
    "In this example, we demonstrate how to use `BatchTNMC` to sample configurations of a 2D Ising model and estimate its partition function."
   ]
  },
  {
   "cell_type": "code",
   "execution_count": 1,
   "id": "cb93068a",
   "metadata": {},
   "outputs": [],
   "source": [
    "from sampler import SamplerIsing\n",
    "from create_instances import create_rbim\n",
    "from create_cache import create_cache_ising\n",
    "from utils import compute_energy, metropolis\n",
    "\n",
    "import torch\n",
    "import math"
   ]
  },
  {
   "cell_type": "markdown",
   "id": "27ff190d",
   "metadata": {},
   "source": [
    "First, we create an Ising model instance:"
   ]
  },
  {
   "cell_type": "code",
   "execution_count": 2,
   "id": "a66ef9d6",
   "metadata": {},
   "outputs": [
    {
     "name": "stdout",
     "output_type": "stream",
     "text": [
      "Successfully created instance and saved to ./instances/L32_p0.000000_seed0.pt\n"
     ]
    }
   ],
   "source": [
    "L = 32  # linear system size\n",
    "p = 0  # p=0 for ferromagnetic Ising model\n",
    "seed = 0\n",
    "G = create_rbim(L, p, seed=seed)"
   ]
  },
  {
   "cell_type": "markdown",
   "id": "565ff82c",
   "metadata": {},
   "source": [
    "Next, we create a cache for the sampling, here we use bond dimension `chi=8`, and this will create a cache file in the `cache` folder:"
   ]
  },
  {
   "cell_type": "code",
   "execution_count": 3,
   "id": "2bb201e2",
   "metadata": {},
   "outputs": [
    {
     "name": "stderr",
     "output_type": "stream",
     "text": [
      "Building MPS cache: 100%|██████████| 31/31 [00:04<00:00,  6.53it/s]"
     ]
    },
    {
     "name": "stdout",
     "output_type": "stream",
     "text": [
      "Successfully created MPS cache and saved to ./cache/L32_chi8_beta0.440000_p0.000000_seed0/\n"
     ]
    },
    {
     "name": "stderr",
     "output_type": "stream",
     "text": [
      "\n"
     ]
    }
   ],
   "source": [
    "beta = 0.44  # near critical temperature\n",
    "chi = 8\n",
    "device = torch.device(\"cuda\" if torch.cuda.is_available() else \"cpu\")\n",
    "create_cache_ising(L, chi, beta, p, seed=seed, device=device)"
   ]
  },
  {
   "cell_type": "markdown",
   "id": "1892f59f",
   "metadata": {},
   "source": [
    "Ok, then we can compute the energies of the sampled configurations and estimate the partition function:\n",
    "\n",
    "$$\n",
    "Z = \\sum_{\\{s\\}} e^{-\\beta E(s)} \\approx \\frac{1}{N} \\sum_{i=1}^{N} \\frac{e^{-\\beta E(s_i)}}{q(s_i)}\n",
    "$$\n",
    "\n",
    "The exact solution given by kacward method is 939.9836361516848.\n",
    "\n",
    "Now we can draw samples using the `SamplerIsing` class:"
   ]
  },
  {
   "cell_type": "code",
   "execution_count": 4,
   "id": "9b1596a3",
   "metadata": {},
   "outputs": [
    {
     "name": "stderr",
     "output_type": "stream",
     "text": [
      "Sampling row: 100%|██████████| 32/32 [00:02<00:00, 14.30it/s]\n"
     ]
    }
   ],
   "source": [
    "# draw samples\n",
    "bs = 1000  # batch size\n",
    "sampler = SamplerIsing(L, chi, beta, p, seed=seed, device=device)\n",
    "cfgs, log_probs = sampler.sample(bs=bs)"
   ]
  },
  {
   "cell_type": "code",
   "execution_count": 5,
   "id": "5962a66c",
   "metadata": {},
   "outputs": [
    {
     "name": "stdout",
     "output_type": "stream",
     "text": [
      "Metropolis acceptance rate: 0.9970\n",
      "Estimated logZ: 939.98388671875\n"
     ]
    }
   ],
   "source": [
    "cfgs, log_probs = cfgs.cpu(), log_probs.cpu()\n",
    "energies = compute_energy(2 * cfgs - 1, sampler.J_mat.cpu())\n",
    "acc_rate, acc_list = metropolis(log_probs.cpu(), energies.cpu(), beta)\n",
    "print(f\"Metropolis acceptance rate: {acc_rate:.4f}\")\n",
    "logw = -beta * energies - log_probs\n",
    "logZ_hat = torch.logsumexp(logw, dim=0) - math.log(bs)\n",
    "print(f\"Estimated logZ: {logZ_hat.item()}\")"
   ]
  },
  {
   "cell_type": "markdown",
   "id": "5ef9974c",
   "metadata": {},
   "source": [
    "Finally, we study the performance of `BatchTNMC` with different bond dimensions:"
   ]
  },
  {
   "cell_type": "code",
   "execution_count": 6,
   "id": "335d8290",
   "metadata": {},
   "outputs": [],
   "source": [
    "def test(chi):\n",
    "    create_cache_ising(L, chi, beta, p, seed=seed, device=device)\n",
    "    sampler = SamplerIsing(L, chi, beta, p, seed=seed, device=device)\n",
    "    cfgs, log_probs = sampler.sample(bs=bs)\n",
    "    cfgs, log_probs = cfgs.cpu(), log_probs.cpu()\n",
    "    energies = compute_energy(2 * cfgs - 1, sampler.J_mat.cpu())\n",
    "    acc_rate, acc_list = metropolis(log_probs.cpu(), energies.cpu(), beta)\n",
    "    logw = -beta * energies - log_probs\n",
    "    logZ_hat = torch.logsumexp(logw, dim=0) - math.log(bs)\n",
    "    return acc_rate, logZ_hat.item()"
   ]
  },
  {
   "cell_type": "code",
   "execution_count": 7,
   "id": "51ca9740",
   "metadata": {},
   "outputs": [
    {
     "name": "stdout",
     "output_type": "stream",
     "text": [
      "chi=1\n"
     ]
    },
    {
     "name": "stderr",
     "output_type": "stream",
     "text": [
      "Building MPS cache:   0%|          | 0/31 [00:00<?, ?it/s]"
     ]
    },
    {
     "name": "stderr",
     "output_type": "stream",
     "text": [
      "Building MPS cache: 100%|██████████| 31/31 [00:03<00:00, 10.01it/s]\n"
     ]
    },
    {
     "name": "stdout",
     "output_type": "stream",
     "text": [
      "Successfully created MPS cache and saved to ./cache/L32_chi1_beta0.440000_p0.000000_seed0/\n"
     ]
    },
    {
     "name": "stderr",
     "output_type": "stream",
     "text": [
      "Sampling row: 100%|██████████| 32/32 [00:02<00:00, 15.09it/s]\n"
     ]
    },
    {
     "name": "stdout",
     "output_type": "stream",
     "text": [
      "chi=2\n"
     ]
    },
    {
     "name": "stderr",
     "output_type": "stream",
     "text": [
      "Building MPS cache: 100%|██████████| 31/31 [00:03<00:00,  9.24it/s]\n"
     ]
    },
    {
     "name": "stdout",
     "output_type": "stream",
     "text": [
      "Successfully created MPS cache and saved to ./cache/L32_chi2_beta0.440000_p0.000000_seed0/\n"
     ]
    },
    {
     "name": "stderr",
     "output_type": "stream",
     "text": [
      "Sampling row: 100%|██████████| 32/32 [00:02<00:00, 15.77it/s]\n"
     ]
    },
    {
     "name": "stdout",
     "output_type": "stream",
     "text": [
      "chi=4\n"
     ]
    },
    {
     "name": "stderr",
     "output_type": "stream",
     "text": [
      "Building MPS cache: 100%|██████████| 31/31 [00:02<00:00, 10.41it/s]\n"
     ]
    },
    {
     "name": "stdout",
     "output_type": "stream",
     "text": [
      "Successfully created MPS cache and saved to ./cache/L32_chi4_beta0.440000_p0.000000_seed0/\n"
     ]
    },
    {
     "name": "stderr",
     "output_type": "stream",
     "text": [
      "Sampling row: 100%|██████████| 32/32 [00:01<00:00, 16.68it/s]\n"
     ]
    },
    {
     "name": "stdout",
     "output_type": "stream",
     "text": [
      "chi=8\n"
     ]
    },
    {
     "name": "stderr",
     "output_type": "stream",
     "text": [
      "Building MPS cache: 100%|██████████| 31/31 [00:04<00:00,  6.25it/s]\n"
     ]
    },
    {
     "name": "stdout",
     "output_type": "stream",
     "text": [
      "Successfully created MPS cache and saved to ./cache/L32_chi8_beta0.440000_p0.000000_seed0/\n"
     ]
    },
    {
     "name": "stderr",
     "output_type": "stream",
     "text": [
      "Sampling row: 100%|██████████| 32/32 [00:01<00:00, 16.61it/s]\n"
     ]
    },
    {
     "name": "stdout",
     "output_type": "stream",
     "text": [
      "chi=16\n"
     ]
    },
    {
     "name": "stderr",
     "output_type": "stream",
     "text": [
      "Building MPS cache: 100%|██████████| 31/31 [00:10<00:00,  3.05it/s]\n"
     ]
    },
    {
     "name": "stdout",
     "output_type": "stream",
     "text": [
      "Successfully created MPS cache and saved to ./cache/L32_chi16_beta0.440000_p0.000000_seed0/\n"
     ]
    },
    {
     "name": "stderr",
     "output_type": "stream",
     "text": [
      "Sampling row: 100%|██████████| 32/32 [00:01<00:00, 16.63it/s]\n"
     ]
    }
   ],
   "source": [
    "logZ_exact = logZ_exact = 939.9836361516848\n",
    "acc_list = []\n",
    "err_list = []\n",
    "for chi in [1, 2, 4, 8, 16]:\n",
    "    print(f\"chi={chi}\")\n",
    "    acc_rate, logZ_hat = test(chi)\n",
    "    acc_list.append(acc_rate)\n",
    "    err_list.append(abs(logZ_hat - logZ_exact) / abs(logZ_exact))"
   ]
  },
  {
   "cell_type": "code",
   "execution_count": 8,
   "id": "019daa3d",
   "metadata": {},
   "outputs": [
    {
     "data": {
      "image/png": "[encoded data removed]",
      "text/plain": [
       "<Figure size 1000x400 with 2 Axes>"
      ]
     },
     "metadata": {},
     "output_type": "display_data"
    }
   ],
   "source": [
    "import matplotlib.pyplot as plt\n",
    "\n",
    "chi_values = [1, 2, 4, 8, 16]\n",
    "\n",
    "fig, axes = plt.subplots(1, 2, figsize=(10, 4))\n",
    "\n",
    "# Plot acc_list\n",
    "axes[0].plot(acc_list, marker=\"o\")\n",
    "axes[0].set_xlabel(\"chi\")\n",
    "axes[0].set_ylabel(\"Acceptance Rate\")\n",
    "axes[0].set_title(\"Acceptance Rate vs chi\")\n",
    "axes[0].set_xticks(range(len(chi_values)))\n",
    "axes[0].set_xticklabels(chi_values)\n",
    "\n",
    "# Plot err_list\n",
    "axes[1].plot(err_list, marker=\"o\")\n",
    "axes[1].set_xlabel(\"chi\")\n",
    "axes[1].set_ylabel(\"Relative Error of logZ\")\n",
    "axes[1].set_title(\"Relative Error vs chi\")\n",
    "axes[1].set_xticks(range(len(chi_values)))\n",
    "axes[1].set_xticklabels(chi_values)\n",
    "axes[1].set_yscale(\"log\")\n",
    "\n",
    "plt.tight_layout()\n",
    "plt.show()"
   ]
  },
  {
   "cell_type": "code",
   "execution_count": null,
   "id": "62cba863",
   "metadata": {},
   "outputs": [],
   "source": []
  }
 ],
 "metadata": {
  "kernelspec": {
   "display_name": "batchtnmc",
   "language": "python",
   "name": "python3"
  },
  "language_info": {
   "codemirror_mode": {
    "name": "ipython",
    "version": 3
   },
   "file_extension": ".py",
   "mimetype": "text/x-python",
   "name": "python",
   "nbconvert_exporter": "python",
   "pygments_lexer": "ipython3",
   "version": "3.10.18"
  }
 },
 "nbformat": 4,
 "nbformat_minor": 5
}
